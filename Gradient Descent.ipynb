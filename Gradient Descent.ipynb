{
 "cells": [
  {
   "cell_type": "code",
   "execution_count": 1,
   "metadata": {},
   "outputs": [],
   "source": [
    "import numpy as np\n",
    "\n",
    "class GradientDescent():\n",
    "    def __init__(self, alpha=0.1, tolerance=0.2, max_iterations=1000):\n",
    "        #Alpha is denoted as he learning rate or otherwise known as the step size in gradient decsent \n",
    "        self._alpha= alpha\n",
    "        self._tolerance= tolerance\n",
    "        self._max_iterations = max_iterations\n",
    "        #Thetas ar the array of coefficients for each of the term\n",
    "        #the y-intercept is the lasst elemen which is also the target feature\n",
    "        self._thetas= None\n",
    "        \n",
    "    def fit(self,xs,ys):\n",
    "        num_examples, num_features =np.shape(xs)\n",
    "        self._thetas = np.ones(num_features)\n",
    "        \n",
    "        xs_transposed= xs.transpose()\n",
    "        for i in range(self._max_iterations):\n",
    "            #difference between the hypothesis and the actual values \n",
    "            diffs = np.dot(xs, self._thetas) - ys\n",
    "            #sum of the squares \n",
    "            cost = np.sum(diffs**2)/ (2*num_examples)\n",
    "            #calculate the average gradient for every example \n",
    "            gradient = np.dot(xs_transposed, diffs)/ num_examples \n",
    "            #update the coefficients\n",
    "            self._thetas = self._thetas-self._alpha*gradient\n",
    "            \n",
    "            #check if fit is \"Good enough\"\n",
    "            if cost < self._tolerance:\n",
    "                return self._thetas\n",
    "        return self._thetas\n",
    "        print(self._thetas)\n",
    "    \n",
    "    def predict(self, x):\n",
    "        return np.dot(x, self._thetas)"
   ]
  },
  {
   "cell_type": "code",
   "execution_count": null,
   "metadata": {},
   "outputs": [],
   "source": []
  }
 ],
 "metadata": {
  "kernelspec": {
   "display_name": "Python 3",
   "language": "python",
   "name": "python3"
  },
  "language_info": {
   "codemirror_mode": {
    "name": "ipython",
    "version": 3
   },
   "file_extension": ".py",
   "mimetype": "text/x-python",
   "name": "python",
   "nbconvert_exporter": "python",
   "pygments_lexer": "ipython3",
   "version": "3.6.7"
  }
 },
 "nbformat": 4,
 "nbformat_minor": 2
}
